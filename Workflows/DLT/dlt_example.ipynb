{
 "cells": [
  {
   "cell_type": "code",
   "execution_count": 0,
   "metadata": {
    "application/vnd.databricks.v1+cell": {
     "cellMetadata": {},
     "inputWidgets": {},
     "nuid": "39b85fab-f921-47a5-b553-bcfff66b3832",
     "showTitle": false,
     "tableResultSettingsMap": {},
     "title": ""
    }
   },
   "outputs": [],
   "source": [
    "import dlt"
   ]
  },
  {
   "cell_type": "code",
   "execution_count": 0,
   "metadata": {
    "application/vnd.databricks.v1+cell": {
     "cellMetadata": {},
     "inputWidgets": {},
     "nuid": "c8f1b716-a331-454d-8387-588d71c73e8b",
     "showTitle": false,
     "tableResultSettingsMap": {},
     "title": ""
    }
   },
   "outputs": [],
   "source": [
    "@dlt.table(\n",
    "    table_properties = {\"quality\": \"bronze\"},\n",
    "    comment = \"Orders bronze table\",\n",
    "    name = \"orders_bronze\"\n",
    ")\n",
    "def bronze_table():\n",
    "    df = spark.readStream.table(\"dev.bronze.orders_raw\")\n",
    "    return df"
   ]
  },
  {
   "cell_type": "code",
   "execution_count": 0,
   "metadata": {
    "application/vnd.databricks.v1+cell": {
     "cellMetadata": {},
     "inputWidgets": {},
     "nuid": "71f20d2b-f8dd-4a19-8ae4-2957fc12ba75",
     "showTitle": false,
     "tableResultSettingsMap": {},
     "title": ""
    }
   },
   "outputs": [],
   "source": [
    "@dlt.table(\n",
    "    table_properties = {\"quality\": \"bronze\"},\n",
    "    comment = \"Customers bronze table\",\n",
    "    name = \"customer_bronze\"\n",
    ")\n",
    "def cust_table():\n",
    "    df = spark.read.table(\"dev.bronze.customers_raw\")\n",
    "    return df"
   ]
  },
  {
   "cell_type": "code",
   "execution_count": 0,
   "metadata": {
    "application/vnd.databricks.v1+cell": {
     "cellMetadata": {},
     "inputWidgets": {},
     "nuid": "f4b46aa4-cbc2-4f4f-8f9a-2618e1d061c4",
     "showTitle": false,
     "tableResultSettingsMap": {},
     "title": ""
    }
   },
   "outputs": [],
   "source": [
    "@dlt.table(\n",
    "    table_properties = {\"quality\": \"silver\"},\n",
    "    comment = \"Joined View\"\n",
    "    )\n",
    "def joined_vw():\n",
    "    df_c = spark.read.table(\"LIVE.customer_bronze\")\n",
    "    df_o = spark.read.table(\"LIVE.orders_bronze\")\n",
    "    df_join = df_c.join(df_o, df_c.c_custkey == df_o.o_custkey)\n",
    "    return df_join"
   ]
  }
 ],
 "metadata": {
  "application/vnd.databricks.v1+notebook": {
   "computePreferences": null,
   "dashboards": [],
   "environmentMetadata": {
    "base_environment": "",
    "environment_version": "2"
   },
   "inputWidgetPreferences": null,
   "language": "python",
   "notebookMetadata": {
    "pythonIndentUnit": 4
   },
   "notebookName": "dlt_example",
   "widgets": {}
  },
  "language_info": {
   "name": "python"
  }
 },
 "nbformat": 4,
 "nbformat_minor": 0
}
