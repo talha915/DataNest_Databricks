{
 "cells": [
  {
   "cell_type": "code",
   "execution_count": 0,
   "metadata": {
    "application/vnd.databricks.v1+cell": {
     "cellMetadata": {
      "byteLimit": 2048000,
      "implicitDf": true,
      "rowLimit": 10000
     },
     "inputWidgets": {},
     "nuid": "a9621c96-f73c-4e3a-92ad-43bba53d0a8d",
     "showTitle": false,
     "tableResultSettingsMap": {},
     "title": ""
    }
   },
   "outputs": [],
   "source": [
    "%sql\n",
    "create volume dev.bronze.landing\n",
    "comment 'This is managed bronze landing volume'"
   ]
  },
  {
   "cell_type": "code",
   "execution_count": 0,
   "metadata": {
    "application/vnd.databricks.v1+cell": {
     "cellMetadata": {
      "byteLimit": 2048000,
      "rowLimit": 10000
     },
     "inputWidgets": {},
     "nuid": "d83b05cf-09fe-4c42-9aea-cefb4eb1b414",
     "showTitle": false,
     "tableResultSettingsMap": {},
     "title": ""
    }
   },
   "outputs": [],
   "source": [
    "%python\n",
    "dbutils.fs.mkdirs(\"/Volumes/dev/bronze/landing/autoloader_input/2010/12/01\")\n",
    "dbutils.fs.mkdirs(\"/Volumes/dev/bronze/landing/autoloader_input/2010/12/02\")\n",
    "dbutils.fs.mkdirs(\"/Volumes/dev/bronze/landing/autoloader_input/2010/12/03\")\n",
    "dbutils.fs.mkdirs(\"/Volumes/dev/bronze/landing/autoloader_input/2010/12/04\")\n",
    "dbutils.fs.mkdirs(\"/Volumes/dev/bronze/landing/autoloader_input/2010/12/05\")\n",
    "dbutils.fs.mkdirs(\"/Volumes/dev/bronze/landing/autoloader_input/2010/12/06\")\n",
    "dbutils.fs.mkdirs(\"/Volumes/dev/bronze/landing/autoloader_input/2010/12/07\")\n",
    "dbutils.fs.mkdirs(\"/Volumes/dev/bronze/landing/autoloader_input/2010/12/08\")"
   ]
  },
  {
   "cell_type": "code",
   "execution_count": 0,
   "metadata": {
    "application/vnd.databricks.v1+cell": {
     "cellMetadata": {
      "byteLimit": 2048000,
      "implicitDf": true,
      "rowLimit": 10000
     },
     "inputWidgets": {},
     "nuid": "4de2e9d5-1711-47cc-82f6-d1eff2142433",
     "showTitle": false,
     "tableResultSettingsMap": {},
     "title": ""
    }
   },
   "outputs": [],
   "source": [
    "# Location for checkpoint\n",
    "\n",
    "dbutils.fs.mkdirs(\"/Volumes/dev/bronze/landing/checkpoint/autoloader\")"
   ]
  },
  {
   "cell_type": "code",
   "execution_count": 0,
   "metadata": {
    "application/vnd.databricks.v1+cell": {
     "cellMetadata": {
      "byteLimit": 2048000,
      "rowLimit": 10000
     },
     "inputWidgets": {},
     "nuid": "a2a45df4-667f-4a95-bef1-b2386782624e",
     "showTitle": false,
     "tableResultSettingsMap": {},
     "title": ""
    }
   },
   "outputs": [],
   "source": [
    "dbutils.fs.ls(\"databricks-datasets/definitive-guide/data/retail-data/by-day/\")"
   ]
  },
  {
   "cell_type": "code",
   "execution_count": 0,
   "metadata": {
    "application/vnd.databricks.v1+cell": {
     "cellMetadata": {
      "byteLimit": 2048000,
      "rowLimit": 10000
     },
     "inputWidgets": {},
     "nuid": "c1001e6b-b13b-4566-998b-eb131f62a44b",
     "showTitle": false,
     "tableResultSettingsMap": {},
     "title": ""
    }
   },
   "outputs": [],
   "source": [
    "dbutils.fs.cp(\"databricks-datasets/definitive-guide/data/retail-data/by-day/2010-12-01.csv\", \"/Volumes/dev/bronze/landing/autoloader_input/2010/12/01\")\n",
    "dbutils.fs.cp(\"databricks-datasets/definitive-guide/data/retail-data/by-day/2010-12-02.csv\", \"/Volumes/dev/bronze/landing/autoloader_input/2010/12/02\")\n",
    "dbutils.fs.cp(\"databricks-datasets/definitive-guide/data/retail-data/by-day/2010-12-03.csv\", \"/Volumes/dev/bronze/landing/autoloader_input/2010/12/03\")\n",
    "dbutils.fs.cp(\"databricks-datasets/definitive-guide/data/retail-data/by-day/2010-12-05.csv\", \"/Volumes/dev/bronze/landing/autoloader_input/2010/12/05\")"
   ]
  },
  {
   "cell_type": "code",
   "execution_count": 0,
   "metadata": {
    "application/vnd.databricks.v1+cell": {
     "cellMetadata": {
      "byteLimit": 2048000,
      "rowLimit": 10000
     },
     "inputWidgets": {},
     "nuid": "06ca4b91-d9c6-4113-8f2e-0f701433f645",
     "showTitle": false,
     "tableResultSettingsMap": {},
     "title": ""
    }
   },
   "outputs": [],
   "source": [
    "# Read files using Autoloader with checkpoint\n",
    "# and schema location \"/Volumes/dev/bronze/landing/checkpoint/autoloader\"\n",
    "# File Detection Modes\n",
    "#  - Directory Listing (uses API calls to detect new files)\n",
    "#  - File notification (uses Notification and Queue services - requires elevated cloud permissions for setup)\n",
    "\n",
    "df = (\n",
    "    spark\n",
    "    .readStream\n",
    "    .format(\"cloudFiles\")\n",
    "    .option(\"cloudFiles.format\", \"csv\")\n",
    "    .option(\"pathGlobFilter\", \"*.csv\")\n",
    "    .option(\"header\", True)\n",
    "    .option(\"cloudFiles.schemaHints\", \"Quantity int, UnitPrice double\")\n",
    "    .option(\"cloudFiles.schemaLocation\", \"/Volumes/dev/bronze/landing/checkpoint/autoloader/1\")\n",
    "    .load(\"/Volumes/dev/bronze/landing/autoloader_input/*/\")\n",
    ")"
   ]
  },
  {
   "cell_type": "code",
   "execution_count": 0,
   "metadata": {
    "application/vnd.databricks.v1+cell": {
     "cellMetadata": {
      "byteLimit": 2048000,
      "rowLimit": 10000
     },
     "inputWidgets": {},
     "nuid": "8c10e429-e916-4ddc-944e-8dccbe518756",
     "showTitle": false,
     "tableResultSettingsMap": {},
     "title": ""
    }
   },
   "outputs": [],
   "source": [
    "import pyspark.sql.functions as F\n",
    "\n",
    "(\n",
    "    df\n",
    "    .withColumn(\"__file\", F.col(\"_metadata.file_name\"))\n",
    "    .writeStream\n",
    "    .option(\"checkpointLocation\", \"/Volumes/dev/bronze/landing/checkpoint/autoloader/1\")\n",
    "    .outputMode(\"append\")\n",
    "    .trigger(availableNow=True)\n",
    "    .toTable(\"dev.bronze.invoice_al_1\")\n",
    ")"
   ]
  },
  {
   "cell_type": "code",
   "execution_count": 0,
   "metadata": {
    "application/vnd.databricks.v1+cell": {
     "cellMetadata": {
      "byteLimit": 2048000,
      "implicitDf": true,
      "rowLimit": 10000
     },
     "inputWidgets": {},
     "nuid": "fcaf46d8-f588-447c-b8cd-fe05cfaf4af9",
     "showTitle": false,
     "tableResultSettingsMap": {},
     "title": ""
    }
   },
   "outputs": [],
   "source": [
    "%sql\n",
    "select * from dev.bronze.invoice_al_1;"
   ]
  },
  {
   "cell_type": "code",
   "execution_count": 0,
   "metadata": {
    "application/vnd.databricks.v1+cell": {
     "cellMetadata": {
      "byteLimit": 2048000,
      "implicitDf": true,
      "rowLimit": 10000
     },
     "inputWidgets": {},
     "nuid": "03aafbb1-21fc-4670-9908-811a4e24593d",
     "showTitle": false,
     "tableResultSettingsMap": {},
     "title": ""
    }
   },
   "outputs": [],
   "source": [
    "%sql\n",
    "select __file, count(1) as processed_rows\n",
    "from dev.bronze.invoice_al_1\n",
    "group by __file;"
   ]
  },
  {
   "cell_type": "code",
   "execution_count": 0,
   "metadata": {
    "application/vnd.databricks.v1+cell": {
     "cellMetadata": {},
     "inputWidgets": {},
     "nuid": "1dde5839-8ddd-4b0a-959e-e88457ae0573",
     "showTitle": false,
     "tableResultSettingsMap": {},
     "title": ""
    }
   },
   "outputs": [],
   "source": []
  }
 ],
 "metadata": {
  "application/vnd.databricks.v1+notebook": {
   "computePreferences": null,
   "dashboards": [],
   "environmentMetadata": {
    "base_environment": "",
    "environment_version": "2"
   },
   "inputWidgetPreferences": null,
   "language": "python",
   "notebookMetadata": {
    "mostRecentlyExecutedCommandWithImplicitDF": {
     "commandId": 8789170288039976,
     "dataframes": [
      "_sqldf"
     ]
    },
    "pythonIndentUnit": 4
   },
   "notebookName": "Auto Loader example",
   "widgets": {}
  },
  "language_info": {
   "name": "python"
  }
 },
 "nbformat": 4,
 "nbformat_minor": 0
}
