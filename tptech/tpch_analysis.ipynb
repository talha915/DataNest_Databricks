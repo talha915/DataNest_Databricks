{
 "cells": [
  {
   "cell_type": "code",
   "execution_count": 0,
   "metadata": {
    "application/vnd.databricks.v1+cell": {
     "cellMetadata": {
      "byteLimit": 2048000,
      "rowLimit": 10000
     },
     "inputWidgets": {},
     "nuid": "c19aaef9-f9ae-4e9f-afff-8b918e6f87b1",
     "showTitle": false,
     "tableResultSettingsMap": {},
     "title": ""
    }
   },
   "outputs": [],
   "source": [
    "import pyspark.sql.functions as F\n",
    "from delta.tables import DeltaTable"
   ]
  },
  {
   "cell_type": "code",
   "execution_count": 0,
   "metadata": {
    "application/vnd.databricks.v1+cell": {
     "cellMetadata": {
      "byteLimit": 2048000,
      "rowLimit": 10000
     },
     "inputWidgets": {},
     "nuid": "27459083-c23e-45b5-8c30-390612443a2c",
     "showTitle": false,
     "tableResultSettingsMap": {},
     "title": ""
    }
   },
   "outputs": [],
   "source": [
    "df_customers = (\n",
    "    spark.read.table(\"samples.tpch.customer\")\n",
    ")"
   ]
  },
  {
   "cell_type": "code",
   "execution_count": 0,
   "metadata": {
    "application/vnd.databricks.v1+cell": {
     "cellMetadata": {
      "byteLimit": 2048000,
      "rowLimit": 10000
     },
     "inputWidgets": {},
     "nuid": "c3505dc0-635c-4c6b-ad34-802bd51e6f17",
     "showTitle": false,
     "tableResultSettingsMap": {},
     "title": ""
    }
   },
   "outputs": [],
   "source": [
    "df_orders = (\n",
    "    spark.read.table(\"samples.tpch.orders\")\n",
    ")"
   ]
  },
  {
   "cell_type": "markdown",
   "metadata": {
    "application/vnd.databricks.v1+cell": {
     "cellMetadata": {
      "byteLimit": 2048000,
      "rowLimit": 10000
     },
     "inputWidgets": {},
     "nuid": "61ec4e4b-fcfe-4213-b4af-ac11a9ffcfc6",
     "showTitle": false,
     "tableResultSettingsMap": {},
     "title": ""
    }
   },
   "source": [
    "### Customer who already placed orders"
   ]
  },
  {
   "cell_type": "code",
   "execution_count": 0,
   "metadata": {
    "application/vnd.databricks.v1+cell": {
     "cellMetadata": {
      "byteLimit": 2048000,
      "rowLimit": 10000
     },
     "inputWidgets": {},
     "nuid": "05c21086-9d09-4d2a-82bc-3aceda54b518",
     "showTitle": false,
     "tableResultSettingsMap": {},
     "title": ""
    }
   },
   "outputs": [],
   "source": [
    "df_customer_placed_order = (\n",
    "    df_customers.join(\n",
    "        df_orders, \n",
    "        df_customers.c_custkey == df_orders.o_custkey, \n",
    "        how=\"left\"\n",
    "    ).select(df_customers[\"*\"], df_orders.o_orderstatus, df_orders.o_totalprice, df_orders.o_orderdate)\n",
    ")"
   ]
  },
  {
   "cell_type": "code",
   "execution_count": 0,
   "metadata": {
    "application/vnd.databricks.v1+cell": {
     "cellMetadata": {
      "byteLimit": 2048000,
      "rowLimit": 10000
     },
     "inputWidgets": {},
     "nuid": "46f449c7-5f5e-4119-9673-d40ec1d6b272",
     "showTitle": false,
     "tableResultSettingsMap": {},
     "title": ""
    }
   },
   "outputs": [],
   "source": [
    "df_customer_who_placed_order = (\n",
    "    df_customer_placed_order.filter(F.col(\"o_orderstatus\").isNotNull())\n",
    ")"
   ]
  },
  {
   "cell_type": "markdown",
   "metadata": {
    "application/vnd.databricks.v1+cell": {
     "cellMetadata": {},
     "inputWidgets": {},
     "nuid": "ee8016f7-eea2-48b0-857e-44c16dbed604",
     "showTitle": false,
     "tableResultSettingsMap": {},
     "title": ""
    }
   },
   "source": [
    "### Customers Placed Orders"
   ]
  },
  {
   "cell_type": "code",
   "execution_count": 0,
   "metadata": {
    "application/vnd.databricks.v1+cell": {
     "cellMetadata": {
      "byteLimit": 2048000,
      "rowLimit": 10000
     },
     "collapsed": true,
     "inputWidgets": {},
     "nuid": "05781195-44de-4520-92c8-139e64201070",
     "showTitle": false,
     "tableResultSettingsMap": {},
     "title": ""
    }
   },
   "outputs": [],
   "source": [
    "df_customer_who_placed_order.display()"
   ]
  },
  {
   "cell_type": "markdown",
   "metadata": {
    "application/vnd.databricks.v1+cell": {
     "cellMetadata": {
      "byteLimit": 2048000,
      "rowLimit": 10000
     },
     "inputWidgets": {},
     "nuid": "54f5aaec-236b-4431-99eb-7745a365d3bf",
     "showTitle": false,
     "tableResultSettingsMap": {},
     "title": ""
    }
   },
   "source": [
    "### Customers Never placed orders"
   ]
  },
  {
   "cell_type": "code",
   "execution_count": 0,
   "metadata": {
    "application/vnd.databricks.v1+cell": {
     "cellMetadata": {
      "byteLimit": 2048000,
      "rowLimit": 10000
     },
     "inputWidgets": {},
     "nuid": "cc581d3d-7f2b-424e-a3bb-798b7e1d0b3c",
     "showTitle": false,
     "tableResultSettingsMap": {},
     "title": ""
    }
   },
   "outputs": [],
   "source": [
    "df_customers_never_orders = (\n",
    "    df_customers.join(\n",
    "        df_orders, \n",
    "        df_customers.c_custkey == df_orders.o_custkey, \n",
    "        how=\"leftanti\"\n",
    "    )\n",
    ")"
   ]
  },
  {
   "cell_type": "markdown",
   "metadata": {
    "application/vnd.databricks.v1+cell": {
     "cellMetadata": {},
     "inputWidgets": {},
     "nuid": "08e55c7e-380b-4d6c-96ca-ae6f8fa5e9e2",
     "showTitle": false,
     "tableResultSettingsMap": {},
     "title": ""
    }
   },
   "source": [
    "### Deduplicate Records of customers never ordered"
   ]
  },
  {
   "cell_type": "code",
   "execution_count": 0,
   "metadata": {
    "application/vnd.databricks.v1+cell": {
     "cellMetadata": {
      "byteLimit": 2048000,
      "rowLimit": 10000
     },
     "inputWidgets": {},
     "nuid": "b229b018-3983-459d-85ca-17b85cee1e8d",
     "showTitle": false,
     "tableResultSettingsMap": {},
     "title": ""
    }
   },
   "outputs": [],
   "source": [
    "df_customers_never_orders_dedup = df_customers_never_orders.dropDuplicates([\"c_custkey\", \"c_name\", \"c_address\"])"
   ]
  },
  {
   "cell_type": "code",
   "execution_count": 0,
   "metadata": {
    "application/vnd.databricks.v1+cell": {
     "cellMetadata": {
      "byteLimit": 2048000,
      "rowLimit": 10000
     },
     "inputWidgets": {},
     "nuid": "fcd8aee8-3b50-4ac5-804c-b6c4a99b1d6c",
     "showTitle": false,
     "tableResultSettingsMap": {},
     "title": ""
    }
   },
   "outputs": [],
   "source": [
    "if spark.catalog.tableExists(\"dev.silver.customers_never_ordered\"):\n",
    "    print(\"ℹ️ Table exists...\")\n",
    "    # Reference the Silver table as a DeltaTable\n",
    "    silver_table = DeltaTable.forName(spark, \"dev.silver.customers_never_ordered\")\n",
    "    print(\"⏳ Processing the Silver table...\")\n",
    "    # Perform merge\n",
    "    silver_table.alias(\"silver\").merge(\n",
    "        df_customers_never_orders_dedup.alias(\"new\"),\n",
    "        \"silver.c_custkey = new.c_custkey\",\n",
    "        \"silver.c_name = new.c_name\", \n",
    "        \"silver.c_address = new.c_address\"\n",
    "    ).whenNotMatchedInsertAll().execute()\n",
    "    print(\"✅ Merge completed!\")\n",
    "\n",
    "else:\n",
    "    # Table doesn't exist → create it\n",
    "    print(\"⏳ Creating new Silver table...\")\n",
    "    df_customers_never_orders_dedup.write.format(\"delta\") \\\n",
    "        .mode(\"overwrite\").saveAsTable(\"dev.silver.customers_never_ordered\")\n",
    "\n",
    "    print(\"✅ Data Ingested Successfully!\")    \n"
   ]
  },
  {
   "cell_type": "code",
   "execution_count": 0,
   "metadata": {
    "application/vnd.databricks.v1+cell": {
     "cellMetadata": {
      "byteLimit": 2048000,
      "rowLimit": 10000
     },
     "inputWidgets": {},
     "nuid": "d99869c5-365b-4b1a-8c12-f6a841542bba",
     "showTitle": false,
     "tableResultSettingsMap": {},
     "title": ""
    }
   },
   "outputs": [],
   "source": [
    "if spark.catalog.tableExists(\"dev.silver.customers_placed_orders\"):\n",
    "    print(\"ℹ️ Table exists...\")\n",
    "    # Reference the Silver table as a DeltaTable\n",
    "    silver_table = DeltaTable.forName(spark, \"dev.silver.customers_placed_orders\")\n",
    "    print(\"⏳ Processing the Silver table...\")\n",
    "    # Perform merge\n",
    "    silver_table.alias(\"silver\").merge(\n",
    "        df_customer_who_placed_order.alias(\"new\"),\n",
    "        \"silver.c_custkey = new.c_custkey\",\n",
    "        \"silver.o_orderdate = new.o_orderdate\",\n",
    "        \"silver.o_orderstatus = new.o_orderstatus\",\n",
    "        \"silver.o_totalprice = new.o_totalprice\"\n",
    "    ).whenNotMatchedInsertAll().execute()\n",
    "    print(\"✅ Merge completed!\")\n",
    "\n",
    "else:\n",
    "    # Table doesn't exist → create it\n",
    "    print(\"⏳ Creating new Silver table...\")\n",
    "    df_customers_never_orders_dedup.write.format(\"delta\") \\\n",
    "        .mode(\"overwrite\").saveAsTable(\"dev.silver.customers_placed_orders\")\n",
    "\n",
    "    print(\"✅ Data Ingested Successfully!\")    \n"
   ]
  },
  {
   "cell_type": "code",
   "execution_count": 0,
   "metadata": {
    "application/vnd.databricks.v1+cell": {
     "cellMetadata": {},
     "inputWidgets": {},
     "nuid": "bd31109e-61ac-45bb-b1f1-1eea9c11dc3c",
     "showTitle": false,
     "tableResultSettingsMap": {},
     "title": ""
    }
   },
   "outputs": [],
   "source": []
  }
 ],
 "metadata": {
  "application/vnd.databricks.v1+notebook": {
   "computePreferences": {
    "hardware": {
     "accelerator": null,
     "gpuPoolId": null,
     "memory": null
    }
   },
   "dashboards": [],
   "environmentMetadata": {
    "base_environment": "",
    "environment_version": "2"
   },
   "inputWidgetPreferences": null,
   "language": "python",
   "notebookMetadata": {
    "pythonIndentUnit": 4
   },
   "notebookName": "tpch_analysis",
   "widgets": {}
  },
  "language_info": {
   "name": "python"
  }
 },
 "nbformat": 4,
 "nbformat_minor": 0
}
